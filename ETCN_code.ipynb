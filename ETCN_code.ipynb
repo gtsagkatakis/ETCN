{
 "cells": [
  {
   "cell_type": "code",
   "execution_count": null,
   "id": "334a3235",
   "metadata": {},
   "outputs": [],
   "source": [
    "import os\n",
    "import numpy as np\n",
    "import tensorflow.keras\n",
    "from tensorflow.keras.models import Model, Sequential\n",
    "from tensorflow.keras.layers import  Activation, Dropout,SpatialDropout1D, Conv3D, ConvLSTM2D, Conv1D, TimeDistributed, Dense, Input, Conv2D, Flatten, MaxPooling2D, Reshape, Conv2DTranspose, BatchNormalization\n",
    "import tensorflow_addons as tfa\n",
    "from tensorflow.keras.callbacks import ModelCheckpoint\n",
    "from PIL import Image, ImageSequence\n",
    "import pylab as plt\n",
    "import random\n",
    "# from google.colab import drive\n",
    "# drive.mount('/content/gdrive')\n",
    "#PATH_OF_DATA= '/content/gdrive/\"My Drive\"/Autoencoders_model_Myrto/autoencoders'\n",
    "import matplotlib.pyplot as plt\n",
    "import matplotlib.image as mpimg\n",
    "from sklearn.metrics import mean_squared_error\n",
    "from math import sqrt\n",
    "from scipy.stats.stats import pearsonr\n",
    "from sklearn.metrics import mean_absolute_error\n",
    "import sys\n",
    "from PIL import GifImagePlugin\n",
    "from skimage.color import rgb2gray"
   ]
  },
  {
   "cell_type": "code",
   "execution_count": null,
   "id": "bd6365aa",
   "metadata": {},
   "outputs": [],
   "source": [
    "window_TCN=8\n",
    "window_ConvLSTM=18"
   ]
  },
  {
   "cell_type": "code",
   "execution_count": null,
   "id": "73f4240b",
   "metadata": {},
   "outputs": [],
   "source": [
    "# C O M P L E T E   D A T A S E T\n",
    "frames=[]\n",
    "for i in range(2003,2020):\n",
    "  # img = Image.open('/content/gdrive/My Drive/monthly_day/d_%i.gif' %i)\n",
    "  # img = Image.open('soil_moisture_new\\sweden_28_5km_data\\%i.gif' %i)\n",
    "  # img = Image.open('sweden_60_1km\\sweden_60_1km_data\\%i.gif' %i)\n",
    "  img = Image.open('sweden_28_5km\\sweden_28_5km_data\\%i.gif' %i)\n",
    "  # img = Image.open('america\\\\america_140_1km\\\\america_140_1km_data\\\\%i.gif' %i)\n",
    "  \n",
    "\n",
    "  img.load()\n",
    "    \n",
    "  for frame in ImageSequence.Iterator(img):\n",
    "      \n",
    "    frame_2 = frame.convert('RGB')    #(28, 28, 3)\n",
    "    frame_2 = np.array(frame_2)       #(28, 28, 3)\n",
    "    frame_2 = np.sum(frame_2, axis=2) #(28, 28)\n",
    "    frame_2 = frame_2.reshape(frame_2.shape[0], frame_2.shape[1], 1) #( 28, 28, 1)\n",
    "    frames.append(frame_2) \n",
    "frames = np.array(frames, dtype='uint8')  #(210, 28, 28, 1)\n",
    "print(frames.max(),frames.min())"
   ]
  },
  {
   "cell_type": "markdown",
   "id": "41f46cd6",
   "metadata": {},
   "source": [
    "d=np.mean(frames,axis=1)\n",
    "e=np.mean(d,axis=2)\n",
    "g=np.mean(d,axis=1)\n",
    "plt.plot(g)\n",
    "plt.show()"
   ]
  },
  {
   "cell_type": "markdown",
   "id": "e23a8a7f",
   "metadata": {
    "lines_to_next_cell": 2
   },
   "source": [
    "e=(g-173)/3\n",
    "plt.plot(e[1:25])\n",
    "plt.show()"
   ]
  },
  {
   "cell_type": "markdown",
   "id": "0ad537a0",
   "metadata": {},
   "source": [
    "sys.exit()"
   ]
  },
  {
   "cell_type": "markdown",
   "id": "2ea246cf",
   "metadata": {},
   "source": [
    "plt.plot((frames[:,14,14,0]-273)/10)"
   ]
  },
  {
   "cell_type": "markdown",
   "id": "289e2022",
   "metadata": {},
   "source": [
    "sys.exit()"
   ]
  },
  {
   "cell_type": "code",
   "execution_count": null,
   "id": "cc4ea52b",
   "metadata": {
    "lines_to_next_cell": 2
   },
   "outputs": [],
   "source": [
    "maxi=np.max(frames)\n",
    "mini=np.min(frames)\n",
    "frames = (frames-mini)/(maxi-mini) #(209, 28, 28, 1)"
   ]
  },
  {
   "cell_type": "code",
   "execution_count": null,
   "id": "04d5f83a",
   "metadata": {},
   "outputs": [],
   "source": [
    "# T R A I N   D A T A \n",
    "train_frames=frames[0:192,:,:,:] #(209, 28, 28, 1)"
   ]
  },
  {
   "cell_type": "code",
   "execution_count": null,
   "id": "6c4f551e",
   "metadata": {},
   "outputs": [],
   "source": []
  },
  {
   "cell_type": "markdown",
   "id": "c6335555",
   "metadata": {},
   "source": [
    "maxi=np.max(train_frames)\n",
    "mini=np.min(train_frames)\n",
    "train_frames = (train_frames-mini)/(maxi-mini) #(209, 28, 28, 1)"
   ]
  },
  {
   "cell_type": "code",
   "execution_count": null,
   "id": "f8016832",
   "metadata": {},
   "outputs": [],
   "source": [
    "X_train_ConvLSTM, y_train_ConvLSTM = [], []\n",
    "for i in range(len(train_frames)-window_ConvLSTM):\n",
    "  X_train_ConvLSTM.append(train_frames[i:i+window_ConvLSTM,::,::,::])\n",
    "  y_train_ConvLSTM.append(train_frames[i+1:i+window_ConvLSTM+1,::,::,::])\n",
    "X_train_ConvLSTM=np.array(X_train_ConvLSTM)  \n",
    "y_train_ConvLSTM=np.array(y_train_ConvLSTM) "
   ]
  },
  {
   "cell_type": "code",
   "execution_count": null,
   "id": "226bf1af",
   "metadata": {
    "lines_to_next_cell": 2
   },
   "outputs": [],
   "source": [
    "X_train_TCN, y_train_TCN = [], []\n",
    "for i in range(len(train_frames)-window_TCN):\n",
    "  X_train_TCN.append(train_frames[i:i+window_TCN,::,::,::])\n",
    "  y_train_TCN.append(train_frames[i+1:i+window_TCN+1,::,::,::])\n",
    "X_train_TCN=np.array(X_train_TCN)  \n",
    "y_train_TCN=np.array(y_train_TCN) "
   ]
  },
  {
   "cell_type": "markdown",
   "id": "665f3bb8",
   "metadata": {},
   "source": [
    "# V A L I D A T I O N   D A T A \n",
    "r=random.sample(range(len(train_frames)-window-1), 20)\n",
    "X_val=X_train[r, ::, ::, ::, ::] \n",
    "y_val=y_train[r, ::, ::, ::, ::]  \n",
    "X_train = np.delete(X_train, (r), axis=0) \n",
    "y_train = np.delete(y_train, (r), axis=0) "
   ]
  },
  {
   "cell_type": "markdown",
   "id": "a0e05601",
   "metadata": {
    "lines_to_next_cell": 2
   },
   "source": [
    "print(np.shape(X_train))\n",
    "print(np.shape(y_train))"
   ]
  },
  {
   "cell_type": "code",
   "execution_count": null,
   "id": "7016ef0d",
   "metadata": {},
   "outputs": [],
   "source": [
    "from tensorflow import keras"
   ]
  },
  {
   "cell_type": "markdown",
   "id": "cc83b4d4",
   "metadata": {},
   "source": [
    "ae_ConvLSTM = keras.models.load_model('sweden_60_1km\\\\ConvLSTM\\\\vgg.h5')\n",
    "ae_TCN = keras.models.load_model('sweden_60_1km\\\\TCN\\\\vgg.h5')"
   ]
  },
  {
   "cell_type": "markdown",
   "id": "59de3dc5",
   "metadata": {
    "lines_to_next_cell": 2
   },
   "source": [
    "ae_ConvLSTM = keras.models.load_model('sweden_28_5km\\\\ConvLSTM\\\\vgg.h5')\n",
    "ae_TCN = keras.models.load_model('sweden_28_5km\\\\TCN\\\\vgg.h5')"
   ]
  },
  {
   "cell_type": "markdown",
   "id": "050d7e61",
   "metadata": {},
   "source": [
    "ae_ConvLSTM = keras.models.load_model('america\\\\america_140_1km\\\\ConvLSTM\\\\vgg_112_112.h5')\n",
    "ae_TCN = keras.models.load_model('america\\\\america_140_1km\\\\TCN\\\\vgg_112_112.h5')"
   ]
  },
  {
   "cell_type": "code",
   "execution_count": null,
   "id": "d2fe569c",
   "metadata": {},
   "outputs": [],
   "source": [
    "ae_ConvLSTM = keras.models.load_model('ae_ConvLSTM.h5')\n",
    "ae_TCN = keras.models.load_model('ae_TCN.h5')"
   ]
  },
  {
   "cell_type": "code",
   "execution_count": null,
   "id": "0963e678",
   "metadata": {},
   "outputs": [],
   "source": []
  },
  {
   "cell_type": "markdown",
   "id": "972086e4",
   "metadata": {
    "lines_to_next_cell": 2
   },
   "source": [
    "ae_ConvLSTM.compile(optimizer='adam', loss=\"mse\")\n",
    "ae_TCN.compile(optimizer='adam', loss=\"mse\")"
   ]
  },
  {
   "cell_type": "markdown",
   "id": "91bf5b59",
   "metadata": {},
   "source": [
    "history_ConvLSTM=ae_ConvLSTM.fit(X_train_ConvLSTM, y_train_ConvLSTM, epochs=100)\n",
    "history_TCN=ae_TCN.fit(X_train_TCN, y_train_TCN, epochs=100)"
   ]
  },
  {
   "cell_type": "markdown",
   "id": "c0917dbe",
   "metadata": {},
   "source": [
    "ae_ConvLSTM.save('ae_ConvLSTM.h5')\n",
    "ae_TCN.save('ae_TCN.h5')"
   ]
  },
  {
   "cell_type": "code",
   "execution_count": null,
   "id": "8bbe7f8b",
   "metadata": {
    "lines_to_next_cell": 2
   },
   "outputs": [],
   "source": []
  },
  {
   "cell_type": "markdown",
   "id": "983d70e6",
   "metadata": {
    "lines_to_next_cell": 2
   },
   "source": [
    "history_ConvLSTM=ae_ConvLSTM.fit(X_train, y_train, epochs=100, validation_data=(X_val, y_val))\n",
    "history_TCN=ae_TCN.fit(X_train, y_train, epochs=100, validation_data=(X_val, y_val))"
   ]
  },
  {
   "cell_type": "code",
   "execution_count": null,
   "id": "a5527521",
   "metadata": {},
   "outputs": [],
   "source": [
    "num_days_test=12"
   ]
  },
  {
   "cell_type": "code",
   "execution_count": null,
   "id": "9e96e1b1",
   "metadata": {},
   "outputs": [],
   "source": [
    "[n1,n2,n3,n4]=frames.shape"
   ]
  },
  {
   "cell_type": "code",
   "execution_count": null,
   "id": "30a807d3",
   "metadata": {},
   "outputs": [],
   "source": [
    "pearsonr_lst_ConvLSTM=np.zeros([num_days_test,1])\n",
    "mean_absolute_error_lst_ConvLSTM=np.zeros([num_days_test,1])\n",
    "mean_squared_error_lst_ConvLSTM=np.zeros([num_days_test,1])"
   ]
  },
  {
   "cell_type": "code",
   "execution_count": null,
   "id": "d4c9633c",
   "metadata": {},
   "outputs": [],
   "source": [
    "pearsonr_lst_TCN=np.zeros([num_days_test,1])\n",
    "mean_absolute_error_lst_TCN=np.zeros([num_days_test,1])\n",
    "mean_squared_error_lst_TCN=np.zeros([num_days_test,1])"
   ]
  },
  {
   "cell_type": "code",
   "execution_count": null,
   "id": "5fdb9a14",
   "metadata": {},
   "outputs": [],
   "source": [
    "img_ConvLSTM=np.zeros([num_days_test,n2,n3])\n",
    "img_gt=np.zeros([num_days_test,n2,n3])\n",
    "img_TCN=np.zeros([num_days_test,n2,n3])"
   ]
  },
  {
   "cell_type": "code",
   "execution_count": null,
   "id": "d6689eef",
   "metadata": {
    "lines_to_next_cell": 2
   },
   "outputs": [],
   "source": [
    "for i in range(0,num_days_test):\n",
    "\n",
    "    # T E S T   D A T A\n",
    "    smps_ConvLSTM=np.arange(192-window_ConvLSTM+i,192+i)\n",
    "    test_frames_ConvLSTM = frames[smps_ConvLSTM,:,:,:]\n",
    "    # test_frames_ConvLSTM = (test_frames_ConvLSTM-mini)/(maxi-mini)\n",
    "    test_frames_ConvLSTM = np.expand_dims(test_frames_ConvLSTM, axis=0)\n",
    "    \n",
    "    smps_TCN=np.arange(192-window_TCN+i,192+i)\n",
    "    test_frames_TCN = frames[smps_TCN,:,:,:]\n",
    "    # test_frames_TCN = (test_frames_TCN-mini)/(maxi-mini)\n",
    "    test_frames_TCN = np.expand_dims(test_frames_TCN, axis=0)\n",
    "    \n",
    "    \n",
    "    gt = frames[192+i,:,:,:]\n",
    "    img_gt[i,:,:]=gt[:,:,0]\n",
    "    # gt = (gt-mini)/(maxi-mini)\n",
    "    \n",
    "    # P R E D I C T I O N\n",
    "    new_pos_ConvLSTM=ae_ConvLSTM.predict(test_frames_ConvLSTM) #(1, window, 28, 28, num_channels to predict)\n",
    "    new_pos_TCN=ae_TCN.predict(test_frames_TCN) #(1, window, 28, 28, num_channels to predict)\n",
    "    \n",
    "    # P L O T S\n",
    "    # fig = plt.figure(figsize=(10, 5))\n",
    "    # ax = fig.add_subplot(121)\n",
    "    # plt.imshow((new_pos[0,-1,:,:,0])) \n",
    "    # ax = fig.add_subplot(122)\n",
    "    # plt.imshow(gt)\n",
    "    # plt.show()\n",
    "\n",
    "    # plt.savefig('prediction1.png' )\n",
    "    \n",
    "    test=gt.flatten()\n",
    "    \n",
    "    img_ConvLSTM[i,:,:]=new_pos_ConvLSTM[0,-1,::,::,0]\n",
    "    img_TCN[i,:,:]=new_pos_TCN[0,-1,::,::,0]\n",
    "    \n",
    "    \n",
    "    pred_ConvLSTM=new_pos_ConvLSTM[0,-1,::,::,0].flatten()\n",
    "    pearsonr_lst_ConvLSTM[i]=pearsonr(test, pred_ConvLSTM)[0]\n",
    "    mean_absolute_error_lst_ConvLSTM[i]=mean_absolute_error(test, pred_ConvLSTM)\n",
    "    mean_squared_error_lst_ConvLSTM[i]=mean_squared_error(test, pred_ConvLSTM)\n",
    "    \n",
    "    pred_TCN=new_pos_TCN[0,-1,::,::,0].flatten()\n",
    "    pearsonr_lst_TCN[i]=pearsonr(test, pred_TCN)[0]\n",
    "    mean_absolute_error_lst_TCN[i]=mean_absolute_error(test, pred_TCN)\n",
    "    mean_squared_error_lst_TCN[i]=mean_squared_error(test, pred_TCN)\n",
    "    \n",
    "    # print(pearsonr(test, pred_ConvLSTM))\n",
    "    # print(mean_absolute_error(test, pred_ConvLSTM))\n",
    "    # print(mean_squared_error(test, pred_ConvLSTM))"
   ]
  },
  {
   "cell_type": "code",
   "execution_count": null,
   "id": "b36dce11",
   "metadata": {},
   "outputs": [],
   "source": [
    "labels = ['1', '2', '3', '4','5','6','7','8','9','10','11','12']\n",
    "x=np.arange(0,num_days_test)\n",
    "plt.plot(x,pearsonr_lst_ConvLSTM, label='ConvLSTM')\n",
    "plt.plot(x,pearsonr_lst_TCN, label='Embedded TCN')\n",
    "plt.xlabel(\"Month (2020)\")\n",
    "plt.ylabel(\"PCC\")\n",
    "plt.xticks(x, labels)\n",
    "plt.legend()\n",
    "plt.show()"
   ]
  },
  {
   "cell_type": "code",
   "execution_count": null,
   "id": "ab09d50c",
   "metadata": {},
   "outputs": [],
   "source": [
    "labels = ['1', '2', '3', '4','5','6','7','8','9','10','11','12']\n",
    "x=np.arange(0,num_days_test)\n",
    "plt.plot(x,mean_absolute_error_lst_ConvLSTM, label='ConvLSTM')\n",
    "plt.plot(x,mean_absolute_error_lst_TCN, label='Embedded TCN')\n",
    "plt.xlabel(\"Month (2020)\")\n",
    "plt.ylabel(\"MAE\")\n",
    "plt.xticks(x, labels)\n",
    "plt.legend()\n",
    "plt.show()"
   ]
  },
  {
   "cell_type": "markdown",
   "id": "4dc854af",
   "metadata": {},
   "source": [
    "a=np.mean(new_pos_ConvLSTM,axis=2)\n",
    "b=np.mean(a,axis=2)\n",
    "c=b[0,:,0]\n",
    "plt.plot(c)\n",
    "plt.plot((c*(maxi-mini)-mini)/10)\n",
    "plt.show()"
   ]
  },
  {
   "cell_type": "code",
   "execution_count": null,
   "id": "f1e732d0",
   "metadata": {},
   "outputs": [],
   "source": [
    "d=np.mean(img_ConvLSTM*maxi,axis=-1)\n",
    "e=np.mean(d,axis=-1)\n",
    "e=(e-173)/5\n",
    "plt.plot(e,label='ConvLSTM')\n",
    "# plt.show()"
   ]
  },
  {
   "cell_type": "code",
   "execution_count": null,
   "id": "40f5eeb7",
   "metadata": {},
   "outputs": [],
   "source": [
    "d=np.mean(img_TCN*maxi,axis=-1)\n",
    "e=np.mean(d,axis=-1)\n",
    "e=(e-173)/5\n",
    "plt.plot(e,label='Embedded TCN')\n",
    "# plt.show()"
   ]
  },
  {
   "cell_type": "code",
   "execution_count": null,
   "id": "ac2097d3",
   "metadata": {
    "lines_to_next_cell": 2
   },
   "outputs": [],
   "source": [
    "d=np.mean(img_gt*maxi,axis=-1)\n",
    "e=np.mean(d,axis=-1)\n",
    "e=(e-173)/5\n",
    "plt.plot(e,label='Ground Truth values')\n",
    "plt.legend()\n",
    "plt.xticks(x, labels)\n",
    "plt.xlabel(\"Month (2020)\")\n",
    "plt.ylabel(\"LST at daytime ($^\\circ$C) \")\n",
    "plt.show()"
   ]
  },
  {
   "cell_type": "code",
   "execution_count": null,
   "id": "5748804b",
   "metadata": {
    "lines_to_next_cell": 2
   },
   "outputs": [],
   "source": [
    "from scipy import stats\n",
    "# stats.ttest_ind((img_ConvLSTM).flatten(),(img_TCN).flatten())\n",
    "print(stats.ttest_rel((img_ConvLSTM-img_gt).flatten(),(img_TCN-img_gt).flatten()))\n",
    "# print(stats.ttest_rel((img_ConvLSTM[:,:,:]).flatten(),(img_TCN[:,:,:]).flatten()))"
   ]
  },
  {
   "cell_type": "markdown",
   "id": "8d035bc6",
   "metadata": {},
   "source": [
    "plt.plot((((test_frames_ConvLSTM[0,:,14,14,0])*(maxi-mini))-mini)/10)\n",
    "plt.plot(mean_absolute_error_lst)\n",
    "plt.xlabel(\"Month\")\n",
    "plt.ylabel(\"MAE\")\n",
    "plt.show()\n",
    "plt.plot(mean_squared_error_lst)\n",
    "plt.show()"
   ]
  }
 ],
 "metadata": {
  "jupytext": {
   "cell_metadata_filter": "-all",
   "main_language": "python",
   "notebook_metadata_filter": "-all"
  }
 },
 "nbformat": 4,
 "nbformat_minor": 5
}
